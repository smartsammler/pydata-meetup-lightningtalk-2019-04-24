{
 "cells": [
  {
   "cell_type": "markdown",
   "metadata": {
    "slideshow": {
     "slide_type": "slide"
    }
   },
   "source": [
    "# JupyterCon 2018:\u202f[Joel Grus](https://twitter.com/@joelgrus), [I don't like Notebooks](https://docs.google.com/presentation/d/1n2RlMdmv1p25Xy5thJUhkKGvjtV-dkAIsUXP-AL4ffI/edit#slide=id.g362da58057_0_1)"
   ]
  },
  {
   "cell_type": "markdown",
   "metadata": {
    "slideshow": {
     "slide_type": "slide"
    }
   },
   "source": [
    "Key points of criticism:\n",
    "\n",
    "* Hidden state\n",
    " * Difficult for beginners\n",
    "* Bad habits\n",
    " * No testing, linting, auto-formatting,\n",
    " * Not importable\n",
    " * No clean design\n",
    "* No classes, etc.\n",
    "* Linked state (in JupyterLab)\n",
    "* No reproducibility \n",
    "* Copy paste notebook content\n",
    "* Aborts also at expected errors"
   ]
  },
  {
   "cell_type": "markdown",
   "metadata": {
    "slideshow": {
     "slide_type": "subslide"
    }
   },
   "source": [
    "I would add:\n",
    "* Git support (JSON:\u202fNah)\n",
    "* Extensions in environments like\n",
    "\n",
    "![XKCD 1987](https://imgs.xkcd.com/comics/python_environment.png)"
   ]
  },
  {
   "cell_type": "markdown",
   "metadata": {
    "slideshow": {
     "slide_type": "slide"
    }
   },
   "source": [
    "## Hidden state"
   ]
  },
  {
   "cell_type": "code",
   "metadata": {
    "slideshow": {
     "slide_type": "fragment"
    }
   },
   "outputs": [],
   "source": [
    "x = 2"
   ]
  },
  {
   "cell_type": "code",
   "metadata": {
    "slideshow": {
     "slide_type": "fragment"
    }
   },
   "outputs": [],
   "source": [
    "print(x)"
   ]
  },
  {
   "cell_type": "code",
   "metadata": {
    "slideshow": {
     "slide_type": "fragment"
    }
   },
   "outputs": [],
   "source": [
    "x = 3"
   ]
  },
  {
   "cell_type": "markdown",
   "metadata": {
    "slideshow": {
     "slide_type": "notes"
    }
   },
   "source": [
    "The execution order is shown in brackets, but need not to be in from top to bottom."
   ]
  },
  {
   "cell_type": "code",
   "metadata": {
    "slideshow": {
     "slide_type": "subslide"
    }
   },
   "outputs": [],
   "source": [
    "x = 5\n",
    "print(x)"
   ]
  },
  {
   "cell_type": "markdown",
   "metadata": {
    "slideshow": {
     "slide_type": "notes"
    }
   },
   "source": [
    "Even more subtle:\u202fedit cells after executing them (here:\u202fchanged 4 to 5 after execution)"
   ]
  },
  {
   "cell_type": "markdown",
   "metadata": {
    "slideshow": {
     "slide_type": "subslide"
    }
   },
   "source": [
    "### Learned from that talk:"
   ]
  },
  {
   "cell_type": "code",
   "metadata": {
    "slideshow": {
     "slide_type": "fragment"
    }
   },
   "outputs": [],
   "source": [
    "%history"
   ]
  },
  {
   "cell_type": "markdown",
   "metadata": {
    "slideshow": {
     "slide_type": "fragment"
    }
   },
   "source": [
    "But it works only for the first case and is a unhandy solution.\n",
    "\n",
    "**Do you know of good solutions?**"
   ]
  },
  {
   "cell_type": "markdown",
   "metadata": {
    "slideshow": {
     "slide_type": "slide"
    }
   },
   "source": [
    "## No reproducibility"
   ]
  },
  {
   "cell_type": "markdown",
   "metadata": {
    "slideshow": {
     "slide_type": "subslide"
    }
   },
   "source": [
    "* No versioning without hacks like"
   ]
  },
  {
   "cell_type": "code",
   "metadata": {
    "slideshow": {
     "slide_type": "fragment"
    }
   },
   "outputs": [],
   "source": [
    "import sys\n",
    "print(f\"Python {sys.version_info}\")\n",
    "print(f\"Interpreter {sys.executable}\")\n",
    "print(\"Installed packages: \")\n",
    "!{sys.executable} -m pip freeze #\u202f> requirements.txt\n",
    "# !{sys.executable} -m pip install -r requirements.txt"
   ]
  },
  {
   "cell_type": "markdown",
   "metadata": {
    "slideshow": {
     "slide_type": "slide"
    }
   },
   "source": [
    "## Classes and many cells"
   ]
  },
  {
   "cell_type": "code",
   "metadata": {
    "slideshow": {
     "slide_type": "slide"
    }
   },
   "outputs": [],
   "source": [
    "import jdc\n",
    "\n",
    "class TestClass:\n",
    "    def __init__(self, a, b):\n",
    "        self.a = a\n",
    "        self.b = b"
   ]
  },
  {
   "cell_type": "code",
   "metadata": {
    "slideshow": {
     "slide_type": "fragment"
    }
   },
   "outputs": [],
   "source": [
    "%%add_to TestClass\n",
    "def __call__(self, c):\n",
    "    print(self.a, self.b, c)"
   ]
  },
  {
   "cell_type": "code",
   "metadata": {
    "slideshow": {
     "slide_type": "fragment"
    }
   },
   "outputs": [],
   "source": [
    "a = TestClass(1, 2)\n",
    "a(3)"
   ]
  },
  {
   "cell_type": "code",
   "metadata": {},
   "outputs": [],
   "source": [
    "class TestClass(TestClass):\n",
    "    def __repr__(self):\n",
    "        return f\"a: {self.a}\\nb:\u202f{self.b}\""
   ]
  },
  {
   "cell_type": "code",
   "metadata": {},
   "outputs": [],
   "source": [
    "a = TestClass(1, 2)\n",
    "a"
   ]
  },
  {
   "cell_type": "markdown",
   "metadata": {
    "slideshow": {
     "slide_type": "slide"
    }
   },
   "source": [
    "## Things I like Notebooks for"
   ]
  },
  {
   "cell_type": "markdown",
   "metadata": {
    "slideshow": {
     "slide_type": "fragment"
    }
   },
   "source": [
    "* Presentations (Nice slides from non-Apple-Academics)\n",
    "* Tutorials (especially with Binder)\n",
    " * Easily have the same environment for all, but more powerful than Notepad (no vim-Plugin or PyCharm-config issues)\n",
    "* Taking notes and actively \"reading\" papers (incl. calculations)\n",
    "* Share Calculations with colleagues (HTML-export)\n",
    "* Showing examples and blogging\n",
    "* Interactively designing a plot (JupyterLab) or exploring functions (with widgets)"
   ]
  },
  {
   "cell_type": "markdown",
   "metadata": {
    "slideshow": {
     "slide_type": "slide"
    }
   },
   "source": [
    "## Extensions dealing with those problems\n",
    "\n",
    "* Git\n",
    " * Jupyterlab-git\n",
    " * nbdime\n",
    " \n",
    "Talk at PyConDE 2018: [Prototyping To Tested Code - Christopher Prohm](https://www.youtube.com/watch?v=8fg7AkvG-Oc)"
   ]
  },
  {
   "cell_type": "markdown",
   "metadata": {
    "slideshow": {
     "slide_type": "slide"
    }
   },
   "source": [
    "* [Jupytext](https://github.com/mwouts/jupytext/blob/master/README.md) saves Notebooks as ipynb and as Python scripts including all cells, excluding cell states.\n",
    "\n",
    "The article from the author on [medium](https://towardsdatascience.com/introducing-jupytext-9234fdff6c57?gi=6b861bbe5cad)\n",
    "\n",
    "* Also possible to run in an IDE\n",
    "* Also works for JupyerLab"
   ]
  },
  {
   "cell_type": "markdown",
   "metadata": {
    "slideshow": {
     "slide_type": "fragment"
    }
   },
   "source": [
    "Edit your `jupyter_notebook_config.py`\n",
    "```\n",
    "c.NotebookApp.contents_manager_class = \"jupytext.TextFileContentsManager\"\n",
    "```"
   ]
  },
  {
   "cell_type": "markdown",
   "metadata": {
    "slideshow": {
     "slide_type": "fragment"
    }
   },
   "source": [
    "Edit the Notebook in the Editor and add imadeately before the `kernelspec`\n",
    "```\n",
    "\"jupytext\" : {\"formats\": \"ipynb,py\"}\n",
    "```"
   ]
  },
  {
   "cell_type": "code",
   "metadata": {
    "slideshow": {
     "slide_type": "fragment"
    }
   },
   "outputs": [],
   "source": [
    "%autosave 0"
   ]
  },
  {
   "cell_type": "markdown",
   "metadata": {
    "slideshow": {
     "slide_type": "slide"
    }
   },
   "source": [
    "# Thank you.\n",
    "\n",
    "*We should not show Joel Grus [Prezi](https://prezi.com/), so he can complain about [Reveal.js](https://revealjs.com) first* :)"
   ]
  }
 ],
 "metadata": {
  "celltoolbar": "Slideshow",
  "jupytext": {
   "formats": "ipynb,py:light",
   "text_representation": {
    "extension": ".py",
    "format_name": "light",
    "format_version": "1.3",
    "jupytext_version": "0.8.5"
   }
  },
  "kernelspec": {
   "display_name": "Python 3",
   "language": "python",
   "name": "python3"
  },
  "language_info": {
   "codemirror_mode": {
    "name": "ipython",
    "version": 3
   },
   "file_extension": ".py",
   "mimetype": "text/x-python",
   "name": "python",
   "nbconvert_exporter": "python",
   "pygments_lexer": "ipython3",
   "version": "3.6.8"
  }
 },
 "nbformat": 4,
 "nbformat_minor": 2
}